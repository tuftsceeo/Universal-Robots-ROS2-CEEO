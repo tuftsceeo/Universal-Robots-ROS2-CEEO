{
 "cells": [
  {
   "cell_type": "markdown",
   "metadata": {},
   "source": [
    "## Image Drawing\n",
    "This script uses an SVG file to draw an image on an 8.5x11\" piece of paper. To get started, you should determine the global coordinates of your paper including x,y, and z. Assume that the end effector stays vertical the entire time. If you would like to generate your own SVG files, checkout the [linedraw](https://github.com/LingDong-/linedraw) repository."
   ]
  },
  {
   "cell_type": "code",
   "execution_count": null,
   "metadata": {},
   "outputs": [],
   "source": [
    "# Initiate ROS2 and MyUR3e Class\n",
    "from myur import MyUR3e\n",
    "\n",
    "robot = MyUR3e()"
   ]
  },
  {
   "cell_type": "code",
   "execution_count": null,
   "metadata": {},
   "outputs": [],
   "source": [
    "# First close the gripper on the pen\n",
    "robot.move_gripper(100)\n",
    "\n",
    "# The use freedrive to measure the four corners of the page.\n",
    "\n",
    "# Corners of the page in global frame\n",
    "LT = [-0.0904, 0.4208, 0.22]  # Left Top\n",
    "LB = [-0.0904, 0.2049, 0.217]  # Left Bottom\n",
    "RB = [0.1890, 0.2049, 0.217]  # Right Bottom\n",
    "RT = [0.1890, 0.4208, 0.22]  # Right Top\n",
    "\n",
    "PAPER_WIDTH = 0.2159  # meters, or 8.5\"\n",
    "PAPER_HEIGHT = 0.2794  # meters, or 11\""
   ]
  },
  {
   "cell_type": "code",
   "execution_count": null,
   "id": "f599ac7a-fca4-4571-a5b1-dcbe7579e611",
   "metadata": {},
   "outputs": [],
   "source": [
    "# Function to convert paper coordinates to global robot coordinates\n",
    "def paper_coordinates(x, y, up=True):\n",
    "    cords = []\n",
    "    bounds = [x > 0.PAPER_HEIGHT,y > 0.PAPER_WIDTH,x < 0,y < 0]\n",
    "    if True in bounds:\n",
    "        raise RuntimeError(\"Your coordinates are off the paper\")\n",
    "    cords.append(LB[0] + x) # zero x at bottom left\n",
    "    cords.append(LB[1] + y) # zero y at bottom left\n",
    "    if up:\n",
    "        z = max(LT[2],LB[2],RB[2],RT[2])\n",
    "    else: # add Z height, assume paper is not perfectly aligned with robot's axes.\n",
    "        # Calculate the interpolation factors\n",
    "        t = (x - LB[0]) / (RB[0] - LB[0])  # Horizontal interpolation factor\n",
    "        u = (y - LB[1]) / (LT[1] - LB[1])  # Vertical interpolation factor\n",
    "\n",
    "        # Interpolate along the x-axis\n",
    "        z_bottom = (1 - t) * LB[2] + t * RB[2]\n",
    "        z_top = (1 - t) * LT[2] + t * RT[2]\n",
    "\n",
    "        # Interpolate along the y-axis\n",
    "        z = (1 - u) * z_bottom + u * z_top\n",
    "\n",
    "    return cords + [z, 0, 0, 0]\n",
    "\n",
    "\n",
    "# Example use: pen at (0.1,0.1) on the page with the pen up\n",
    "print(paper_coordinates(0.1, 0.1, up=True))"
   ]
  },
  {
   "cell_type": "code",
   "execution_count": null,
   "id": "5c57e011-df84-4d30-9390-52b1aa3d8fde",
   "metadata": {},
   "outputs": [],
   "source": [
    "import xml.etree.ElementTree as ET\n",
    "\n",
    "# If you are using a different SVG, update it here\n",
    "svg_file = \"img/crogers.svg\" # (make sure it was made with the linedraw program, other SVGs are formatted differently)\n",
    "\n",
    "\n",
    "# Create a list of lines containing coordinates from SVG file\n",
    "def svg_polyline_to_coordinates(svg_file):\n",
    "    tree = ET.parse(svg_file)\n",
    "    root = tree.getroot()\n",
    "\n",
    "    # Namespace handling\n",
    "    namespaces = {\"svg\": \"http://www.w3.org/2000/svg\"}\n",
    "\n",
    "    polylines = root.findall(\".//svg:polyline\", namespaces)\n",
    "    all_coordinates = []\n",
    "\n",
    "    max_x = float(\"-inf\")\n",
    "    max_y = float(\"-inf\")\n",
    "\n",
    "    for polyline in polylines:\n",
    "        points = polyline.get(\"points\")\n",
    "        if points:\n",
    "            # Split the points string into individual coordinate pairs\n",
    "            points_list = points.strip().split(\",\")\n",
    "            # Extract x and y coordinates by pairing adjacent items in the list\n",
    "            coordinates = [\n",
    "                (float(points_list[i]), float(points_list[i + 1]))\n",
    "                for i in range(0, len(points_list), 2)\n",
    "            ]\n",
    "            all_coordinates.append(coordinates)\n",
    "\n",
    "            # Update max x and y values\n",
    "            for x, y in coordinates:\n",
    "                if x > max_x:\n",
    "                    max_x = x\n",
    "                if y > max_y:\n",
    "                    max_y = y\n",
    "\n",
    "    return all_coordinates, (max_x, max_y)\n",
    "\n",
    "\n",
    "lines, max_vals = svg_polyline_to_coordinates(svg_file)"
   ]
  },
  {
   "cell_type": "code",
   "execution_count": null,
   "id": "ebf8724d-2fd9-4c80-9a99-e3bf59c11894",
   "metadata": {},
   "outputs": [],
   "source": [
    "# height of paper is 0.2159m\n",
    "# width of paper is 0.2794m\n",
    "draw_height = 0.18  # meters\n",
    "draw_width = 0.25  # meters\n",
    "scale_x = draw_width / max_vals[0]\n",
    "scale_y = draw_height / max_vals[1]\n",
    "scale = min(scale_x, scale_y)\n",
    "\n",
    "vis_trajectory = []  # collection of all trajectories for plot\n",
    "for line in lines:\n",
    "    drawing_trajectory = []\n",
    "    for i, position in enumerate(line):\n",
    "        y = 0.2159 - (position[1] * scale + ((0.2159 - draw_height) / 2))\n",
    "        x = position[0] * scale + ((0.2794 - max_vals[0] * scale) / 2)\n",
    "\n",
    "        if i == 0:\n",
    "            drawing_trajectory.append(\n",
    "                paper_coordinates(x, y, up=True)\n",
    "            )  # pen up at first point\n",
    "            drawing_trajectory.append(\n",
    "                paper_coordinates(x, y, up=False)\n",
    "            )  # pen down at first point\n",
    "        else:\n",
    "            drawing_trajectory.append(\n",
    "                paper_coordinates(x, y, up=False)\n",
    "            )  # interpolated points\n",
    "    drawing_trajectory.append(paper_coordinates(x, y, up=True))  # pen up at last point\n",
    "    vis_trajectory.extend(drawing_trajectory)\n",
    "\n",
    "    # This line actually moves the robot\n",
    "    robot.move_global(drawing_trajectory, time=(\"cv\", 0.1, 0.075))"
   ]
  },
  {
   "cell_type": "code",
   "execution_count": null,
   "id": "955471e9-26c6-42e9-bbd2-5be2dd6cab4d",
   "metadata": {},
   "outputs": [],
   "source": [
    "from IPython.display import HTML\n",
    "robot.clear_vis()\n",
    "robot.move_global(vis_trajectory, vis_only=True)\n",
    "HTML(filename=\"ur3e_trajectory.html\")"
   ]
  }
 ],
 "metadata": {
  "kernelspec": {
   "display_name": "Python [conda env:ros_py310]",
   "language": "python",
   "name": "conda-env-ros_py310-py"
  },
  "language_info": {
   "codemirror_mode": {
    "name": "ipython",
    "version": 3
   },
   "file_extension": ".py",
   "mimetype": "text/x-python",
   "name": "python",
   "nbconvert_exporter": "python",
   "pygments_lexer": "ipython3",
   "version": "3.10.13"
  }
 },
 "nbformat": 4,
 "nbformat_minor": 5
}
