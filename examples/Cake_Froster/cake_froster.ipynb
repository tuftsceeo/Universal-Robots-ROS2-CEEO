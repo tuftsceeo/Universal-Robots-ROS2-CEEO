{
 "cells": [
  {
   "cell_type": "code",
   "execution_count": 1,
   "id": "bd92b38c-9c95-4646-8fd1-688db64a1941",
   "metadata": {},
   "outputs": [],
   "source": [
    "import numpy as np\n",
    "from myur import MyUR3e\n",
    "\n",
    "robot = MyUR3e()\n",
    "robot.move_gripper(255, 255, 255)\n",
    "robot.clear_sim()"
   ]
  },
  {
   "cell_type": "code",
   "execution_count": 23,
   "id": "6a8e9e83-1fb7-4e3a-b4ed-0eeaa79d5e76",
   "metadata": {},
   "outputs": [],
   "source": [
    "# LOCATION VARIABLES\n",
    "HOME = [0.3, 0.3, 0.3, 0, 0, 0]\n",
    "CAKE_CENTER = [0.1, 0.3, 0.32]\n",
    "CAKE_RADIUS = 0.026\n",
    "CAKE_HEIGHT = 0.075\n",
    "LOWEST_Z = 0.207 # true value #0.25 for testing\n",
    "\n",
    "# FROSTING VARIABLES\n",
    "FROSTING_HALFWAY_JOINTS = [4.13, -1.88, -1.56, -1.55, 0.67, -2.88]\n",
    "FROSTING_START_JOINTS = [3.46, -2.02, -2.36, -1.89, -1.21, 3.16]\n",
    "FROSTING_LENGTH = 0.15\n",
    "FROSTING_DROP_HEIGHT = 0.006\n",
    "NUM_SCOOP = 0\n",
    "FROSTING_SEGMENT = 2\n",
    "\n",
    "def angle_clean(angle):\n",
    "    angle = angle % 360\n",
    "    if angle == 0:\n",
    "        angle = 0.1\n",
    "    return angle\n",
    "\n",
    "def arc(divisor, segment=0, steps=100, center=CAKE_CENTER):\n",
    "    # segment should be in range(divisor)\n",
    "    # i.e. if divisor = 5, segment should be 0, 1, 2, 3, or 4\n",
    "\n",
    "    angles = []\n",
    "    for i in range(steps):\n",
    "        ith_angle = 360 / divisor * (segment + i / steps)\n",
    "        angles.append(ith_angle)\n",
    "    arc_points = []\n",
    "    for i, theta in enumerate(angles):\n",
    "        SPATULA_ANGLE = 30 + 20*i/len(angles)\n",
    "\n",
    "        \n",
    "        # SPATULA CHARACTERISTICS\n",
    "        SPATULA_RADIUS = 0.055 * np.cos(np.deg2rad(SPATULA_ANGLE))\n",
    "        #SPATULA_OFFSET = 0.12\n",
    "        EFFECTIVE_RADIUS = CAKE_RADIUS + SPATULA_RADIUS\n",
    "        \n",
    "        radius=EFFECTIVE_RADIUS\n",
    "        x = center[0] + (radius) * np.cos(np.deg2rad(theta))\n",
    "        y = center[1] + (radius) * np.sin(np.deg2rad(theta))\n",
    "        if i == 0:\n",
    "            x = center[0] + (radius) * np.cos(np.deg2rad(theta)) * 1.3\n",
    "            y = center[1] + (radius) * np.sin(np.deg2rad(theta)) * 1.3\n",
    "        elif i == (len(angles) - 1):\n",
    "            x = center[0] + (radius) * np.cos(np.deg2rad(theta)) * 1.3\n",
    "            y = center[1] + (radius) * np.sin(np.deg2rad(theta)) * 1.3\n",
    "\n",
    "        arc_points.append(\n",
    "            [x, y, LOWEST_Z, 0, 0.1, angle_clean(theta + 270 + SPATULA_ANGLE)]\n",
    "        )\n",
    "\n",
    "    start = list(arc_points[0])\n",
    "    start[2] = start[2] + 0.1\n",
    "    end = list(arc_points[-1])\n",
    "    end[2] = end[2] + 0.1\n",
    "    robot.move_global([start], time_step=0.6)\n",
    "    robot.move_global(arc_points, time_step=(1, 0.04))\n",
    "    robot.move_global([end], time_step=0.6)\n",
    "\n",
    "def top_of_cake(joints_position, dx, dy):\n",
    "    robot.move_joints([joints_position], time_step = 2)\n",
    "    robot.move_global_r([[0.0,  dy, 0.0, 0.0, 0.0, 0.0],\n",
    "                         [0.0, 0.0, 0.03, 0.0, 0.0, 0.0],\n",
    "                         [-dx, -dy, -0.03, 0.0, 0.0, 0.0],\n",
    "                         [0.0,  dy, 0.0, 0.0, 0.0, 0.0]], time_step = 0.8)"
   ]
  },
  {
   "cell_type": "code",
   "execution_count": 16,
   "id": "a331c405-0558-47f7-9ca5-73ab8152c50c",
   "metadata": {},
   "outputs": [
    {
     "name": "stderr",
     "output_type": "stream",
     "text": [
      "[INFO] [1722457973.165687325] [remote_control_client]: Goal #48: Executing\n",
      "[INFO] [1722457975.217250505] [remote_control_client]: Goal #48: Completed\n",
      "[INFO] [1722457975.649856896] [remote_control_client]: Goal #49: Executing\n",
      "[INFO] [1722457984.652099659] [remote_control_client]: Goal #49: Completed\n",
      "[INFO] [1722457985.043466336] [remote_control_client]: Goal #50: Executing\n",
      "[INFO] [1722457987.095496499] [remote_control_client]: Goal #50: Completed\n"
     ]
    }
   ],
   "source": [
    "#robot.move_joints('home_to_cake', time_step = (2, 0.05), interp = 'spline')\n",
    "\n",
    "arc(3, segment = 1)"
   ]
  },
  {
   "cell_type": "code",
   "execution_count": 26,
   "id": "64e857f7-d132-4ff4-890d-52fdb4c29045",
   "metadata": {},
   "outputs": [
    {
     "name": "stderr",
     "output_type": "stream",
     "text": [
      "[INFO] [1722530073.201855483] [remote_control_client]: Goal #548: Executing\n",
      "[INFO] [1722530080.255075109] [remote_control_client]: Goal #548: Completed\n",
      "[INFO] [1722530082.778259226] [remote_control_client]: Goal #549: Executing\n",
      "[INFO] [1722530083.830747637] [remote_control_client]: Goal #549: Completed\n",
      "[INFO] [1722530086.348853664] [remote_control_client]: Goal #550: Executing\n",
      "[INFO] [1722530090.401003116] [remote_control_client]: Goal #550: Completed\n",
      "[INFO] [1722530090.406076322] [remote_control_client]: Goal #551: Executing\n",
      "[INFO] [1722530096.459778777] [remote_control_client]: Goal #551: Completed\n",
      "[INFO] [1722530098.812285023] [remote_control_client]: Goal #552: Executing\n",
      "[INFO] [1722530099.464404013] [remote_control_client]: Goal #552: Completed\n",
      "[INFO] [1722530102.052207087] [remote_control_client]: Goal #553: Executing\n",
      "[INFO] [1722530107.105335178] [remote_control_client]: Goal #553: Completed\n",
      "[INFO] [1722530109.655751612] [remote_control_client]: Goal #554: Executing\n",
      "[INFO] [1722530110.307490501] [remote_control_client]: Goal #554: Completed\n",
      "[INFO] [1722530110.309390782] [remote_control_client]: Goal #555: Executing\n",
      "[INFO] [1722530117.360973901] [remote_control_client]: Goal #555: Completed\n",
      "[INFO] [1722530119.965511235] [remote_control_client]: Goal #556: Executing\n",
      "[INFO] [1722530121.017606685] [remote_control_client]: Goal #556: Completed\n",
      "[INFO] [1722530123.770136311] [remote_control_client]: Goal #557: Executing\n",
      "[INFO] [1722530124.122605864] [remote_control_client]: Goal #557: Completed\n",
      "[INFO] [1722530126.529536221] [remote_control_client]: Goal #558: Executing\n"
     ]
    },
    {
     "ename": "KeyboardInterrupt",
     "evalue": "",
     "output_type": "error",
     "traceback": [
      "\u001b[0;31m---------------------------------------------------------------------------\u001b[0m",
      "\u001b[0;31mKeyboardInterrupt\u001b[0m                         Traceback (most recent call last)",
      "Cell \u001b[0;32mIn[26], line 17\u001b[0m\n\u001b[1;32m     15\u001b[0m     robot\u001b[38;5;241m.\u001b[39mmove_global([ABOVE_FROSTING_BEGINNING], time_step \u001b[38;5;241m=\u001b[39m \u001b[38;5;241m1\u001b[39m)\n\u001b[1;32m     16\u001b[0m     robot\u001b[38;5;241m.\u001b[39mmove_global_r([[\u001b[38;5;241m0.0\u001b[39m, \u001b[38;5;241m0.0\u001b[39m, \u001b[38;5;241m-\u001b[39m\u001b[38;5;241m0.001\u001b[39m \u001b[38;5;241m*\u001b[39m (i \u001b[38;5;241m+\u001b[39m \u001b[38;5;241m1\u001b[39m), \u001b[38;5;241m0.0\u001b[39m, \u001b[38;5;241m0.0\u001b[39m, \u001b[38;5;241m0.0\u001b[39m]], time_step \u001b[38;5;241m=\u001b[39m \u001b[38;5;241m0.3\u001b[39m)\n\u001b[0;32m---> 17\u001b[0m     \u001b[43mrobot\u001b[49m\u001b[38;5;241;43m.\u001b[39;49m\u001b[43mmove_global_r\u001b[49m\u001b[43m(\u001b[49m\u001b[43m[\u001b[49m\u001b[43m[\u001b[49m\u001b[38;5;241;43m0.0\u001b[39;49m\u001b[43m,\u001b[49m\u001b[43m \u001b[49m\u001b[38;5;241;43m0.13\u001b[39;49m\u001b[43m,\u001b[49m\u001b[43m \u001b[49m\u001b[38;5;241;43m0.0\u001b[39;49m\u001b[43m,\u001b[49m\u001b[43m \u001b[49m\u001b[38;5;241;43m0.0\u001b[39;49m\u001b[43m,\u001b[49m\u001b[43m \u001b[49m\u001b[38;5;241;43m0.0\u001b[39;49m\u001b[43m,\u001b[49m\u001b[43m \u001b[49m\u001b[38;5;241;43m0.0\u001b[39;49m\u001b[43m]\u001b[49m\u001b[43m]\u001b[49m\u001b[43m,\u001b[49m\u001b[43m \u001b[49m\u001b[43mtime_step\u001b[49m\u001b[43m \u001b[49m\u001b[38;5;241;43m=\u001b[39;49m\u001b[43m \u001b[49m\u001b[38;5;241;43m4\u001b[39;49m\u001b[43m)\u001b[49m\n\u001b[1;32m     18\u001b[0m     robot\u001b[38;5;241m.\u001b[39mmove_joints(\u001b[38;5;124m'\u001b[39m\u001b[38;5;124mfrosting_end_to_cake\u001b[39m\u001b[38;5;124m'\u001b[39m, time_step \u001b[38;5;241m=\u001b[39m (\u001b[38;5;241m1\u001b[39m, \u001b[38;5;241m0.05\u001b[39m), interp \u001b[38;5;241m=\u001b[39m \u001b[38;5;124m'\u001b[39m\u001b[38;5;124mspline\u001b[39m\u001b[38;5;124m'\u001b[39m)\n\u001b[1;32m     20\u001b[0m robot\u001b[38;5;241m.\u001b[39mmove_joints(\u001b[38;5;124m'\u001b[39m\u001b[38;5;124mcake_v_to_cake_h\u001b[39m\u001b[38;5;124m'\u001b[39m, time_step \u001b[38;5;241m=\u001b[39m (\u001b[38;5;241m1\u001b[39m, \u001b[38;5;241m0.04\u001b[39m), interp \u001b[38;5;241m=\u001b[39m \u001b[38;5;124m'\u001b[39m\u001b[38;5;124mspline\u001b[39m\u001b[38;5;124m'\u001b[39m)\n",
      "File \u001b[0;32m~/Universal-Robots-ROS2-CEEO/myur/myur3e.py:465\u001b[0m, in \u001b[0;36mMyUR3e.move_global_r\u001b[0;34m(self, pos_deltas, time_step, sim, wait)\u001b[0m\n\u001b[1;32m    463\u001b[0m     \u001b[38;5;28;01melse\u001b[39;00m:\n\u001b[1;32m    464\u001b[0m         sequence\u001b[38;5;241m.\u001b[39mappend([\u001b[38;5;28msum\u001b[39m(x) \u001b[38;5;28;01mfor\u001b[39;00m x \u001b[38;5;129;01min\u001b[39;00m \u001b[38;5;28mzip\u001b[39m(sequence[i \u001b[38;5;241m-\u001b[39m \u001b[38;5;241m1\u001b[39m], delta)])\n\u001b[0;32m--> 465\u001b[0m \u001b[38;5;28;43mself\u001b[39;49m\u001b[38;5;241;43m.\u001b[39;49m\u001b[43mmove_global\u001b[49m\u001b[43m(\u001b[49m\u001b[43msequence\u001b[49m\u001b[43m,\u001b[49m\u001b[43m \u001b[49m\u001b[43mtime_step\u001b[49m\u001b[38;5;241;43m=\u001b[39;49m\u001b[43mtime_step\u001b[49m\u001b[43m,\u001b[49m\u001b[43m \u001b[49m\u001b[43msim\u001b[49m\u001b[38;5;241;43m=\u001b[39;49m\u001b[43msim\u001b[49m\u001b[43m,\u001b[49m\u001b[43m \u001b[49m\u001b[43mwait\u001b[49m\u001b[38;5;241;43m=\u001b[39;49m\u001b[43mwait\u001b[49m\u001b[43m)\u001b[49m\n",
      "File \u001b[0;32m~/Universal-Robots-ROS2-CEEO/myur/myur3e.py:442\u001b[0m, in \u001b[0;36mMyUR3e.move_global\u001b[0;34m(self, coordinates, time_step, sim, wait, interp)\u001b[0m\n\u001b[1;32m    438\u001b[0m     \u001b[38;5;28;01mraise\u001b[39;00m \u001b[38;5;167;01mRuntimeError\u001b[39;00m(\n\u001b[1;32m    439\u001b[0m         \u001b[38;5;124mf\u001b[39m\u001b[38;5;124m\"\u001b[39m\u001b[38;5;124mIK solution not found for \u001b[39m\u001b[38;5;132;01m{\u001b[39;00mjoint_positions\u001b[38;5;241m.\u001b[39mcount(\u001b[38;5;28;01mNone\u001b[39;00m)\u001b[38;5;132;01m}\u001b[39;00m\u001b[38;5;124m/\u001b[39m\u001b[38;5;132;01m{\u001b[39;00m\u001b[38;5;28mlen\u001b[39m(joint_positions)\u001b[38;5;132;01m}\u001b[39;00m\u001b[38;5;124m points\u001b[39m\u001b[38;5;124m\"\u001b[39m\n\u001b[1;32m    440\u001b[0m     )\n\u001b[1;32m    441\u001b[0m \u001b[38;5;28;01melif\u001b[39;00m sim \u001b[38;5;241m==\u001b[39m \u001b[38;5;28;01mFalse\u001b[39;00m:\n\u001b[0;32m--> 442\u001b[0m     \u001b[38;5;28;43mself\u001b[39;49m\u001b[38;5;241;43m.\u001b[39;49m\u001b[43mmove_joints\u001b[49m\u001b[43m(\u001b[49m\n\u001b[1;32m    443\u001b[0m \u001b[43m        \u001b[49m\u001b[43mjoint_positions\u001b[49m\u001b[43m,\u001b[49m\u001b[43m \u001b[49m\u001b[43mtime_step\u001b[49m\u001b[38;5;241;43m=\u001b[39;49m\u001b[43mtime_step\u001b[49m\u001b[43m,\u001b[49m\u001b[43m \u001b[49m\u001b[43msim\u001b[49m\u001b[38;5;241;43m=\u001b[39;49m\u001b[43msim\u001b[49m\u001b[43m,\u001b[49m\u001b[43m \u001b[49m\u001b[43mwait\u001b[49m\u001b[38;5;241;43m=\u001b[39;49m\u001b[43mwait\u001b[49m\u001b[43m,\u001b[49m\u001b[43m \u001b[49m\u001b[43minterp\u001b[49m\u001b[38;5;241;43m=\u001b[39;49m\u001b[38;5;28;43;01mNone\u001b[39;49;00m\n\u001b[1;32m    444\u001b[0m \u001b[43m    \u001b[49m\u001b[43m)\u001b[49m\n",
      "File \u001b[0;32m~/Universal-Robots-ROS2-CEEO/myur/myur3e.py:525\u001b[0m, in \u001b[0;36mMyUR3e.move_joints\u001b[0;34m(self, joint_positions, time_step, units, sim, wait, interp)\u001b[0m\n\u001b[1;32m    523\u001b[0m \u001b[38;5;28mself\u001b[39m\u001b[38;5;241m.\u001b[39mexecute_trajectory(trajectory)\n\u001b[1;32m    524\u001b[0m \u001b[38;5;28;01mif\u001b[39;00m wait:\n\u001b[0;32m--> 525\u001b[0m     \u001b[38;5;28;43mself\u001b[39;49m\u001b[38;5;241;43m.\u001b[39;49m\u001b[43mwait\u001b[49m\u001b[43m(\u001b[49m\u001b[38;5;28;43mself\u001b[39;49m\u001b[43m)\u001b[49m\n\u001b[1;32m    526\u001b[0m \u001b[38;5;28;01melse\u001b[39;00m:\n\u001b[1;32m    527\u001b[0m     spinthread \u001b[38;5;241m=\u001b[39m threading\u001b[38;5;241m.\u001b[39mThread(\n\u001b[1;32m    528\u001b[0m         target\u001b[38;5;241m=\u001b[39m\u001b[38;5;28;01mlambda\u001b[39;00m: \u001b[38;5;28mself\u001b[39m\u001b[38;5;241m.\u001b[39mspin_async(\u001b[38;5;28mself\u001b[39m\u001b[38;5;241m.\u001b[39m_id)\n\u001b[1;32m    529\u001b[0m     )\n",
      "File \u001b[0;32m~/Universal-Robots-ROS2-CEEO/myur/myur3e.py:681\u001b[0m, in \u001b[0;36mMyUR3e.wait\u001b[0;34m(self, client)\u001b[0m\n\u001b[1;32m    678\u001b[0m rclpy\u001b[38;5;241m.\u001b[39mspin_once(client)\n\u001b[1;32m    679\u001b[0m \u001b[38;5;28;01mwhile\u001b[39;00m \u001b[38;5;129;01mnot\u001b[39;00m client\u001b[38;5;241m.\u001b[39mdone:\n\u001b[1;32m    680\u001b[0m     \u001b[38;5;66;03m#if not self.health_scan(): return\u001b[39;00m\n\u001b[0;32m--> 681\u001b[0m     \u001b[43mrclpy\u001b[49m\u001b[38;5;241;43m.\u001b[39;49m\u001b[43mspin_once\u001b[49m\u001b[43m(\u001b[49m\u001b[43mclient\u001b[49m\u001b[43m)\u001b[49m\n",
      "File \u001b[0;32m/opt/tljh/user/envs/ros_py310/lib/python3.10/site-packages/rclpy/__init__.py:202\u001b[0m, in \u001b[0;36mspin_once\u001b[0;34m(node, executor, timeout_sec)\u001b[0m\n\u001b[1;32m    200\u001b[0m \u001b[38;5;28;01mtry\u001b[39;00m:\n\u001b[1;32m    201\u001b[0m     executor\u001b[38;5;241m.\u001b[39madd_node(node)\n\u001b[0;32m--> 202\u001b[0m     \u001b[43mexecutor\u001b[49m\u001b[38;5;241;43m.\u001b[39;49m\u001b[43mspin_once\u001b[49m\u001b[43m(\u001b[49m\u001b[43mtimeout_sec\u001b[49m\u001b[38;5;241;43m=\u001b[39;49m\u001b[43mtimeout_sec\u001b[49m\u001b[43m)\u001b[49m\n\u001b[1;32m    203\u001b[0m \u001b[38;5;28;01mfinally\u001b[39;00m:\n\u001b[1;32m    204\u001b[0m     executor\u001b[38;5;241m.\u001b[39mremove_node(node)\n",
      "File \u001b[0;32m/opt/tljh/user/envs/ros_py310/lib/python3.10/site-packages/rclpy/executors.py:705\u001b[0m, in \u001b[0;36mSingleThreadedExecutor.spin_once\u001b[0;34m(self, timeout_sec)\u001b[0m\n\u001b[1;32m    703\u001b[0m \u001b[38;5;28;01mdef\u001b[39;00m \u001b[38;5;21mspin_once\u001b[39m(\u001b[38;5;28mself\u001b[39m, timeout_sec: \u001b[38;5;28mfloat\u001b[39m \u001b[38;5;241m=\u001b[39m \u001b[38;5;28;01mNone\u001b[39;00m) \u001b[38;5;241m-\u001b[39m\u001b[38;5;241m>\u001b[39m \u001b[38;5;28;01mNone\u001b[39;00m:\n\u001b[1;32m    704\u001b[0m     \u001b[38;5;28;01mtry\u001b[39;00m:\n\u001b[0;32m--> 705\u001b[0m         handler, entity, node \u001b[38;5;241m=\u001b[39m \u001b[38;5;28;43mself\u001b[39;49m\u001b[38;5;241;43m.\u001b[39;49m\u001b[43mwait_for_ready_callbacks\u001b[49m\u001b[43m(\u001b[49m\u001b[43mtimeout_sec\u001b[49m\u001b[38;5;241;43m=\u001b[39;49m\u001b[43mtimeout_sec\u001b[49m\u001b[43m)\u001b[49m\n\u001b[1;32m    706\u001b[0m     \u001b[38;5;28;01mexcept\u001b[39;00m ShutdownException:\n\u001b[1;32m    707\u001b[0m         \u001b[38;5;28;01mpass\u001b[39;00m\n",
      "File \u001b[0;32m/opt/tljh/user/envs/ros_py310/lib/python3.10/site-packages/rclpy/executors.py:691\u001b[0m, in \u001b[0;36mExecutor.wait_for_ready_callbacks\u001b[0;34m(self, *args, **kwargs)\u001b[0m\n\u001b[1;32m    688\u001b[0m     \u001b[38;5;28mself\u001b[39m\u001b[38;5;241m.\u001b[39m_cb_iter \u001b[38;5;241m=\u001b[39m \u001b[38;5;28mself\u001b[39m\u001b[38;5;241m.\u001b[39m_wait_for_ready_callbacks(\u001b[38;5;241m*\u001b[39margs, \u001b[38;5;241m*\u001b[39m\u001b[38;5;241m*\u001b[39mkwargs)\n\u001b[1;32m    690\u001b[0m \u001b[38;5;28;01mtry\u001b[39;00m:\n\u001b[0;32m--> 691\u001b[0m     \u001b[38;5;28;01mreturn\u001b[39;00m \u001b[38;5;28;43mnext\u001b[39;49m\u001b[43m(\u001b[49m\u001b[38;5;28;43mself\u001b[39;49m\u001b[38;5;241;43m.\u001b[39;49m\u001b[43m_cb_iter\u001b[49m\u001b[43m)\u001b[49m\n\u001b[1;32m    692\u001b[0m \u001b[38;5;28;01mexcept\u001b[39;00m \u001b[38;5;167;01mStopIteration\u001b[39;00m:\n\u001b[1;32m    693\u001b[0m     \u001b[38;5;66;03m# Generator ran out of work\u001b[39;00m\n\u001b[1;32m    694\u001b[0m     \u001b[38;5;28mself\u001b[39m\u001b[38;5;241m.\u001b[39m_cb_iter \u001b[38;5;241m=\u001b[39m \u001b[38;5;28;01mNone\u001b[39;00m\n",
      "File \u001b[0;32m/opt/tljh/user/envs/ros_py310/lib/python3.10/site-packages/rclpy/executors.py:588\u001b[0m, in \u001b[0;36mExecutor._wait_for_ready_callbacks\u001b[0;34m(self, timeout_sec, nodes, condition)\u001b[0m\n\u001b[1;32m    585\u001b[0m     waitable\u001b[38;5;241m.\u001b[39madd_to_wait_set(wait_set)\n\u001b[1;32m    587\u001b[0m \u001b[38;5;66;03m# Wait for something to become ready\u001b[39;00m\n\u001b[0;32m--> 588\u001b[0m \u001b[43mwait_set\u001b[49m\u001b[38;5;241;43m.\u001b[39;49m\u001b[43mwait\u001b[49m\u001b[43m(\u001b[49m\u001b[43mtimeout_nsec\u001b[49m\u001b[43m)\u001b[49m\n\u001b[1;32m    589\u001b[0m \u001b[38;5;28;01mif\u001b[39;00m \u001b[38;5;28mself\u001b[39m\u001b[38;5;241m.\u001b[39m_is_shutdown:\n\u001b[1;32m    590\u001b[0m     \u001b[38;5;28;01mraise\u001b[39;00m ShutdownException()\n",
      "\u001b[0;31mKeyboardInterrupt\u001b[0m: "
     ]
    }
   ],
   "source": [
    "ABOVE_CAKE_H = [-0.065, 0.301, 0.067, 50.071, 87.266, -100.51658272207979]\n",
    "ABOVE_FROSTING_BEGINNING = [0.294, -0.102, 0.061, -29.745, 85.969, -87.3995992085437]\n",
    "\n",
    "\n",
    "robot.move_joints('home_to_frosting_beginning', time_step = (2, 0.05), interp = 'spline')\n",
    "robot.move_global([ABOVE_FROSTING_BEGINNING], time_step = 1)\n",
    "#robot.move_global_r([[0.0, 0.0, -0.002, 0.0, 0.0, 0.0]], time_step = 0.3)\n",
    "robot.move_global_r([[0.0, 0.13, 0.0, 0.0, 0.0, 0.0]], time_step = 4)\n",
    "robot.move_joints('frosting_end_to_cake', time_step = (1, 0.05), interp = 'spline')\n",
    "\n",
    "SEGMENTS = 3\n",
    "for i in range(SEGMENTS):\n",
    "    arc(SEGMENTS, segment = i)\n",
    "    robot.move_joints('cake_to_frosting_beginning', time_step = (2, 0.05), interp = 'spline')\n",
    "    robot.move_global([ABOVE_FROSTING_BEGINNING], time_step = 1)\n",
    "    robot.move_global_r([[0.0, 0.0, -0.001 * (i + 1), 0.0, 0.0, 0.0]], time_step = 0.3)\n",
    "    robot.move_global_r([[0.0, 0.13, 0.0, 0.0, 0.0, 0.0]], time_step = 4)\n",
    "    robot.move_joints('frosting_end_to_cake', time_step = (1, 0.05), interp = 'spline')\n",
    "\n",
    "robot.move_joints('cake_v_to_cake_h', time_step = (1, 0.04), interp = 'spline')\n",
    "robot.move_global([ABOVE_CAKE_H], time_step = 1)\n",
    "robot.move_global_r([[0.0, 0.09, 0.0, 0.0, 0.0, 0.0]], time_step = 3)"
   ]
  },
  {
   "cell_type": "code",
   "execution_count": 18,
   "id": "4a3b9883-385f-4b86-b4bc-3f3f85375127",
   "metadata": {},
   "outputs": [
    {
     "name": "stderr",
     "output_type": "stream",
     "text": [
      "[INFO] [1722458220.810389840] [remote_control_client]: Goal #82: Executing\n",
      "[INFO] [1722458226.864321675] [remote_control_client]: Goal #82: Completed\n"
     ]
    }
   ],
   "source": [
    "robot.move_joints('cake_h_to_cake_v', time_step = (1, 0.05), interp = 'spline')"
   ]
  },
  {
   "cell_type": "code",
   "execution_count": 25,
   "id": "02bca7d6-8b7b-4d7b-ac66-bae57bc1a075",
   "metadata": {},
   "outputs": [
    {
     "name": "stderr",
     "output_type": "stream",
     "text": [
      "[INFO] [1722527692.522385386] [remote_control_client]: Goal #545: Executing\n",
      "[INFO] [1722527693.174064107] [remote_control_client]: Goal #545: Completed\n",
      "[INFO] [1722527695.744138953] [remote_control_client]: Goal #546: Executing\n",
      "[INFO] [1722527700.797420240] [remote_control_client]: Goal #546: Completed\n",
      "[INFO] [1722527703.290769470] [remote_control_client]: Goal #547: Executing\n",
      "[INFO] [1722527703.894133302] [remote_control_client]: Goal #547: Completed\n"
     ]
    }
   ],
   "source": [
    "arc(1, segment = 0)"
   ]
  },
  {
   "cell_type": "code",
   "execution_count": 11,
   "id": "60dd8b20-efb6-4649-8ca9-84ce5e099934",
   "metadata": {},
   "outputs": [
    {
     "name": "stderr",
     "output_type": "stream",
     "text": [
      "[INFO] [1722453035.098542297] [remote_control_client]: Goal #26: Executing\n",
      "[INFO] [1722453045.152535664] [remote_control_client]: Goal #26: Completed\n"
     ]
    }
   ],
   "source": [
    "robot.move_joints('home_to_frosting_beginning', time_step = (2, 0.08), interp = 'spline')"
   ]
  },
  {
   "cell_type": "code",
   "execution_count": 8,
   "id": "9aecb61d-128c-474d-837e-8dd31904fd63",
   "metadata": {},
   "outputs": [
    {
     "name": "stderr",
     "output_type": "stream",
     "text": [
      "[INFO] [1722452586.618153554] [remote_control_client]: Goal #24: Executing\n",
      "[INFO] [1722452592.620788174] [remote_control_client]: Goal #24: Completed\n"
     ]
    }
   ],
   "source": [
    "robot.move_global_r([[0.0, -0.13, 0.0, 0.0, 0.0, 0.0]], time_step = 6)"
   ]
  },
  {
   "cell_type": "code",
   "execution_count": null,
   "id": "949b60af-b065-4933-bbfb-0859e36c415e",
   "metadata": {},
   "outputs": [],
   "source": [
    "robot.move_joints('cake_v_to_cake_h', time_step = (2, 0.08), interp = 'spline')\n",
    "#robot.move_joints_r([[0.0, 0.0, 0.0, 0.0, 0.0, 2*np.pi]]) # this unfurs the wrist\n"
   ]
  },
  {
   "cell_type": "code",
   "execution_count": null,
   "id": "675e44ea-5f16-4109-9b8e-f453dd150787",
   "metadata": {},
   "outputs": [],
   "source": [
    "robot.move_global_r([[0.0, 0.13, 0.0, 0.0, 0.0, 0.0]], time_step = 6)"
   ]
  },
  {
   "cell_type": "code",
   "execution_count": 13,
   "id": "b2c4b64b-e87f-43ef-bcf7-2d17e9f23d9d",
   "metadata": {},
   "outputs": [
    {
     "data": {
      "text/plain": [
       "[0.29440462589263916,\n",
       " -0.10241859406232834,\n",
       " 0.06636331230401993,\n",
       " -29.744996134920342,\n",
       " 85.96923087054672,\n",
       " -87.3995992085437]"
      ]
     },
     "execution_count": 13,
     "metadata": {},
     "output_type": "execute_result"
    }
   ],
   "source": [
    "robot.read_global_pos()\n",
    "[0.294, -0.102, 0.066, -29.745, 85.969, -87.3995992085437]"
   ]
  },
  {
   "cell_type": "code",
   "execution_count": null,
   "id": "43bef067-bfae-481e-9d3f-86ea797dd914",
   "metadata": {},
   "outputs": [],
   "source": [
    "#the robot starts at home\n",
    "robot.move_joints('home_to_cake', time_step = (2, 0.08), interp = 'spline')\n",
    "robot.move_joints('cake_to_frosting_beginning', time_step = (1, 0.08), interp = 'spline')\n",
    "robot.move_global_r([[0, 0.15, 0, 0, 0, 0]])\n",
    "robot.move_joints('frosting_end_to_cake', time_step = (1, 0.06), interp = 'spline')\n",
    "arc(2, segment = 0)\n",
    "robot.move_joints('cake_to_frosting_beginning', time_step = (2, 0.08), interp = 'spline')\n",
    "robot.move_global_r([[0, 0.15, 0, 0, 0, 0]])\n",
    "robot.move_joints('frosting_end_to_cake', time_step = (1, 0.06), interp = 'spline')\n",
    "arc(2, segment = 1)\n",
    "robot.move_joints('cake_to_frosting_beginning', time_step = (3, 0.08), interp = 'spline')\n",
    "robot.move_global_r([[0, 0.15, 0, 0, 0, 0]])"
   ]
  },
  {
   "cell_type": "code",
   "execution_count": null,
   "id": "aa0c9693-add2-4270-82fd-6498168f8a24",
   "metadata": {},
   "outputs": [],
   "source": [
    "robot.move_global([CAKE_CENTER+[0, 0, 0]], time_step = 3)"
   ]
  },
  {
   "cell_type": "code",
   "execution_count": null,
   "id": "2f00b48c-f7f1-4aab-8875-b55464c82b73",
   "metadata": {},
   "outputs": [],
   "source": [
    "robot.read_joints_pos()\n",
    "home_pos = [0, -90, 0, -90, 0, 0]"
   ]
  },
  {
   "cell_type": "code",
   "execution_count": 25,
   "id": "088611e8-84ab-4160-aa29-d6d740a82a2b",
   "metadata": {},
   "outputs": [
    {
     "name": "stderr",
     "output_type": "stream",
     "text": [
      "[INFO] [1722458701.778694588] [remote_control_client]: Goal #96: Executing\n"
     ]
    },
    {
     "ename": "KeyboardInterrupt",
     "evalue": "",
     "output_type": "error",
     "traceback": [
      "\u001b[0;31m---------------------------------------------------------------------------\u001b[0m",
      "\u001b[0;31mKeyboardInterrupt\u001b[0m                         Traceback (most recent call last)",
      "Cell \u001b[0;32mIn[25], line 1\u001b[0m\n\u001b[0;32m----> 1\u001b[0m \u001b[43mrobot\u001b[49m\u001b[38;5;241;43m.\u001b[39;49m\u001b[43mmove_joints_r\u001b[49m\u001b[43m(\u001b[49m\u001b[43m[\u001b[49m\u001b[43m[\u001b[49m\u001b[38;5;241;43m0\u001b[39;49m\u001b[43m,\u001b[49m\u001b[43m \u001b[49m\u001b[38;5;241;43m0\u001b[39;49m\u001b[43m,\u001b[49m\u001b[43m \u001b[49m\u001b[38;5;241;43m0\u001b[39;49m\u001b[43m,\u001b[49m\u001b[43m \u001b[49m\u001b[38;5;241;43m0\u001b[39;49m\u001b[43m,\u001b[49m\u001b[43m \u001b[49m\u001b[38;5;241;43m0\u001b[39;49m\u001b[43m,\u001b[49m\u001b[43m \u001b[49m\u001b[38;5;241;43m-\u001b[39;49m\u001b[38;5;241;43m180\u001b[39;49m\u001b[43m]\u001b[49m\u001b[43m]\u001b[49m\u001b[43m)\u001b[49m\n",
      "File \u001b[0;32m~/Universal-Robots-ROS2-CEEO/myur/myur3e.py:487\u001b[0m, in \u001b[0;36mMyUR3e.move_joints_r\u001b[0;34m(self, joint_deltas, time_step, units, sim, wait)\u001b[0m\n\u001b[1;32m    485\u001b[0m     \u001b[38;5;28;01melse\u001b[39;00m:\n\u001b[1;32m    486\u001b[0m         sequence\u001b[38;5;241m.\u001b[39mappend([\u001b[38;5;28msum\u001b[39m(x) \u001b[38;5;28;01mfor\u001b[39;00m x \u001b[38;5;129;01min\u001b[39;00m \u001b[38;5;28mzip\u001b[39m(sequence[i \u001b[38;5;241m-\u001b[39m \u001b[38;5;241m1\u001b[39m], delta)])\n\u001b[0;32m--> 487\u001b[0m \u001b[38;5;28;43mself\u001b[39;49m\u001b[38;5;241;43m.\u001b[39;49m\u001b[43mmove_joints\u001b[49m\u001b[43m(\u001b[49m\u001b[43msequence\u001b[49m\u001b[43m,\u001b[49m\u001b[43m \u001b[49m\u001b[43mtime_step\u001b[49m\u001b[38;5;241;43m=\u001b[39;49m\u001b[43mtime_step\u001b[49m\u001b[43m,\u001b[49m\u001b[43m \u001b[49m\u001b[43munits\u001b[49m\u001b[38;5;241;43m=\u001b[39;49m\u001b[43munits\u001b[49m\u001b[43m,\u001b[49m\u001b[43m \u001b[49m\u001b[43msim\u001b[49m\u001b[38;5;241;43m=\u001b[39;49m\u001b[43msim\u001b[49m\u001b[43m,\u001b[49m\u001b[43m \u001b[49m\u001b[43mwait\u001b[49m\u001b[38;5;241;43m=\u001b[39;49m\u001b[43mwait\u001b[49m\u001b[43m)\u001b[49m\n",
      "File \u001b[0;32m~/Universal-Robots-ROS2-CEEO/myur/myur3e.py:525\u001b[0m, in \u001b[0;36mMyUR3e.move_joints\u001b[0;34m(self, joint_positions, time_step, units, sim, wait, interp)\u001b[0m\n\u001b[1;32m    523\u001b[0m \u001b[38;5;28mself\u001b[39m\u001b[38;5;241m.\u001b[39mexecute_trajectory(trajectory)\n\u001b[1;32m    524\u001b[0m \u001b[38;5;28;01mif\u001b[39;00m wait:\n\u001b[0;32m--> 525\u001b[0m     \u001b[38;5;28;43mself\u001b[39;49m\u001b[38;5;241;43m.\u001b[39;49m\u001b[43mwait\u001b[49m\u001b[43m(\u001b[49m\u001b[38;5;28;43mself\u001b[39;49m\u001b[43m)\u001b[49m\n\u001b[1;32m    526\u001b[0m \u001b[38;5;28;01melse\u001b[39;00m:\n\u001b[1;32m    527\u001b[0m     spinthread \u001b[38;5;241m=\u001b[39m threading\u001b[38;5;241m.\u001b[39mThread(\n\u001b[1;32m    528\u001b[0m         target\u001b[38;5;241m=\u001b[39m\u001b[38;5;28;01mlambda\u001b[39;00m: \u001b[38;5;28mself\u001b[39m\u001b[38;5;241m.\u001b[39mspin_async(\u001b[38;5;28mself\u001b[39m\u001b[38;5;241m.\u001b[39m_id)\n\u001b[1;32m    529\u001b[0m     )\n",
      "File \u001b[0;32m~/Universal-Robots-ROS2-CEEO/myur/myur3e.py:681\u001b[0m, in \u001b[0;36mMyUR3e.wait\u001b[0;34m(self, client)\u001b[0m\n\u001b[1;32m    678\u001b[0m rclpy\u001b[38;5;241m.\u001b[39mspin_once(client)\n\u001b[1;32m    679\u001b[0m \u001b[38;5;28;01mwhile\u001b[39;00m \u001b[38;5;129;01mnot\u001b[39;00m client\u001b[38;5;241m.\u001b[39mdone:\n\u001b[1;32m    680\u001b[0m     \u001b[38;5;66;03m#if not self.health_scan(): return\u001b[39;00m\n\u001b[0;32m--> 681\u001b[0m     \u001b[43mrclpy\u001b[49m\u001b[38;5;241;43m.\u001b[39;49m\u001b[43mspin_once\u001b[49m\u001b[43m(\u001b[49m\u001b[43mclient\u001b[49m\u001b[43m)\u001b[49m\n",
      "File \u001b[0;32m/opt/tljh/user/envs/ros_py310/lib/python3.10/site-packages/rclpy/__init__.py:202\u001b[0m, in \u001b[0;36mspin_once\u001b[0;34m(node, executor, timeout_sec)\u001b[0m\n\u001b[1;32m    200\u001b[0m \u001b[38;5;28;01mtry\u001b[39;00m:\n\u001b[1;32m    201\u001b[0m     executor\u001b[38;5;241m.\u001b[39madd_node(node)\n\u001b[0;32m--> 202\u001b[0m     \u001b[43mexecutor\u001b[49m\u001b[38;5;241;43m.\u001b[39;49m\u001b[43mspin_once\u001b[49m\u001b[43m(\u001b[49m\u001b[43mtimeout_sec\u001b[49m\u001b[38;5;241;43m=\u001b[39;49m\u001b[43mtimeout_sec\u001b[49m\u001b[43m)\u001b[49m\n\u001b[1;32m    203\u001b[0m \u001b[38;5;28;01mfinally\u001b[39;00m:\n\u001b[1;32m    204\u001b[0m     executor\u001b[38;5;241m.\u001b[39mremove_node(node)\n",
      "File \u001b[0;32m/opt/tljh/user/envs/ros_py310/lib/python3.10/site-packages/rclpy/executors.py:705\u001b[0m, in \u001b[0;36mSingleThreadedExecutor.spin_once\u001b[0;34m(self, timeout_sec)\u001b[0m\n\u001b[1;32m    703\u001b[0m \u001b[38;5;28;01mdef\u001b[39;00m \u001b[38;5;21mspin_once\u001b[39m(\u001b[38;5;28mself\u001b[39m, timeout_sec: \u001b[38;5;28mfloat\u001b[39m \u001b[38;5;241m=\u001b[39m \u001b[38;5;28;01mNone\u001b[39;00m) \u001b[38;5;241m-\u001b[39m\u001b[38;5;241m>\u001b[39m \u001b[38;5;28;01mNone\u001b[39;00m:\n\u001b[1;32m    704\u001b[0m     \u001b[38;5;28;01mtry\u001b[39;00m:\n\u001b[0;32m--> 705\u001b[0m         handler, entity, node \u001b[38;5;241m=\u001b[39m \u001b[38;5;28;43mself\u001b[39;49m\u001b[38;5;241;43m.\u001b[39;49m\u001b[43mwait_for_ready_callbacks\u001b[49m\u001b[43m(\u001b[49m\u001b[43mtimeout_sec\u001b[49m\u001b[38;5;241;43m=\u001b[39;49m\u001b[43mtimeout_sec\u001b[49m\u001b[43m)\u001b[49m\n\u001b[1;32m    706\u001b[0m     \u001b[38;5;28;01mexcept\u001b[39;00m ShutdownException:\n\u001b[1;32m    707\u001b[0m         \u001b[38;5;28;01mpass\u001b[39;00m\n",
      "File \u001b[0;32m/opt/tljh/user/envs/ros_py310/lib/python3.10/site-packages/rclpy/executors.py:691\u001b[0m, in \u001b[0;36mExecutor.wait_for_ready_callbacks\u001b[0;34m(self, *args, **kwargs)\u001b[0m\n\u001b[1;32m    688\u001b[0m     \u001b[38;5;28mself\u001b[39m\u001b[38;5;241m.\u001b[39m_cb_iter \u001b[38;5;241m=\u001b[39m \u001b[38;5;28mself\u001b[39m\u001b[38;5;241m.\u001b[39m_wait_for_ready_callbacks(\u001b[38;5;241m*\u001b[39margs, \u001b[38;5;241m*\u001b[39m\u001b[38;5;241m*\u001b[39mkwargs)\n\u001b[1;32m    690\u001b[0m \u001b[38;5;28;01mtry\u001b[39;00m:\n\u001b[0;32m--> 691\u001b[0m     \u001b[38;5;28;01mreturn\u001b[39;00m \u001b[38;5;28;43mnext\u001b[39;49m\u001b[43m(\u001b[49m\u001b[38;5;28;43mself\u001b[39;49m\u001b[38;5;241;43m.\u001b[39;49m\u001b[43m_cb_iter\u001b[49m\u001b[43m)\u001b[49m\n\u001b[1;32m    692\u001b[0m \u001b[38;5;28;01mexcept\u001b[39;00m \u001b[38;5;167;01mStopIteration\u001b[39;00m:\n\u001b[1;32m    693\u001b[0m     \u001b[38;5;66;03m# Generator ran out of work\u001b[39;00m\n\u001b[1;32m    694\u001b[0m     \u001b[38;5;28mself\u001b[39m\u001b[38;5;241m.\u001b[39m_cb_iter \u001b[38;5;241m=\u001b[39m \u001b[38;5;28;01mNone\u001b[39;00m\n",
      "File \u001b[0;32m/opt/tljh/user/envs/ros_py310/lib/python3.10/site-packages/rclpy/executors.py:588\u001b[0m, in \u001b[0;36mExecutor._wait_for_ready_callbacks\u001b[0;34m(self, timeout_sec, nodes, condition)\u001b[0m\n\u001b[1;32m    585\u001b[0m     waitable\u001b[38;5;241m.\u001b[39madd_to_wait_set(wait_set)\n\u001b[1;32m    587\u001b[0m \u001b[38;5;66;03m# Wait for something to become ready\u001b[39;00m\n\u001b[0;32m--> 588\u001b[0m \u001b[43mwait_set\u001b[49m\u001b[38;5;241;43m.\u001b[39;49m\u001b[43mwait\u001b[49m\u001b[43m(\u001b[49m\u001b[43mtimeout_nsec\u001b[49m\u001b[43m)\u001b[49m\n\u001b[1;32m    589\u001b[0m \u001b[38;5;28;01mif\u001b[39;00m \u001b[38;5;28mself\u001b[39m\u001b[38;5;241m.\u001b[39m_is_shutdown:\n\u001b[1;32m    590\u001b[0m     \u001b[38;5;28;01mraise\u001b[39;00m ShutdownException()\n",
      "\u001b[0;31mKeyboardInterrupt\u001b[0m: "
     ]
    }
   ],
   "source": [
    "robot.move_joints_r([[0, 0, 0, 0, 0, 360]]) #to unfurl/unwind the robot"
   ]
  },
  {
   "cell_type": "code",
   "execution_count": null,
   "id": "2d8811f7-21d7-4990-84b0-6bf519fcd870",
   "metadata": {},
   "outputs": [],
   "source": [
    "robot.move_joints('frosting_end_to_cake', time_step = (1, 0.08), interp = 'spline')"
   ]
  },
  {
   "cell_type": "code",
   "execution_count": null,
   "id": "e29cfb96-7322-4a29-9bcb-c009135d8b0b",
   "metadata": {},
   "outputs": [],
   "source": [
    "robot.move_joints('cake_to_frosting_beginning', time_step = (3, 0.08), interp = 'spline')"
   ]
  },
  {
   "cell_type": "code",
   "execution_count": null,
   "id": "56d18226-960e-44c8-90c8-e54db5bb3c10",
   "metadata": {},
   "outputs": [],
   "source": [
    "robot.read_joints_pos()"
   ]
  },
  {
   "cell_type": "code",
   "execution_count": null,
   "id": "5665eb84-2f12-4bb2-b8f9-11ea045f9b59",
   "metadata": {},
   "outputs": [],
   "source": [
    "robot.record('frosting_end_to_cake')"
   ]
  },
  {
   "cell_type": "code",
   "execution_count": null,
   "id": "c8c160e9-3abd-4a8f-9705-f3ad299532ca",
   "metadata": {},
   "outputs": [],
   "source": [
    "arc(2, segment = 1)"
   ]
  },
  {
   "cell_type": "code",
   "execution_count": 6,
   "id": "c4ed1827-6b2e-4bd7-9fb4-72a4a3418a62",
   "metadata": {},
   "outputs": [],
   "source": [
    "robot.move_gripper(255, 255, 255) # close\n",
    "#robot.move_gripper(0, 255, 255) # open"
   ]
  },
  {
   "cell_type": "code",
   "execution_count": null,
   "id": "042a6c62-775f-4ae5-a94b-5f74cbf09463",
   "metadata": {},
   "outputs": [],
   "source": []
  },
  {
   "cell_type": "code",
   "execution_count": null,
   "id": "6dc3e01d-7aa1-4559-8b67-2130d9f4c6af",
   "metadata": {},
   "outputs": [],
   "source": []
  }
 ],
 "metadata": {
  "kernelspec": {
   "display_name": "Python [conda env:ros_py310]",
   "language": "python",
   "name": "conda-env-ros_py310-py"
  },
  "language_info": {
   "codemirror_mode": {
    "name": "ipython",
    "version": 3
   },
   "file_extension": ".py",
   "mimetype": "text/x-python",
   "name": "python",
   "nbconvert_exporter": "python",
   "pygments_lexer": "ipython3",
   "version": "3.10.13"
  }
 },
 "nbformat": 4,
 "nbformat_minor": 5
}
